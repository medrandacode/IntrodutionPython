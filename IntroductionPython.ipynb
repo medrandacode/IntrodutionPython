{
  "nbformat": 4,
  "nbformat_minor": 0,
  "metadata": {
    "colab": {
      "name": "IntroductionPython",
      "provenance": [],
      "authorship_tag": "ABX9TyPXgYz5w5wXdNvoV6vYFVH2"
    },
    "kernelspec": {
      "name": "python3",
      "display_name": "Python 3"
    }
  },
  "cells": [
    {
      "cell_type": "markdown",
      "metadata": {
        "id": "fd7g_w0zV7Ap"
      },
      "source": [
        "# **Introducción a python**\n"
      ]
    },
    {
      "cell_type": "code",
      "metadata": {
        "id": "wr1KybHnV5iD",
        "outputId": "4cb8a57e-0d25-47db-e9f9-8a2a606aaade",
        "colab": {
          "base_uri": "https://localhost:8080/"
        }
      },
      "source": [
        "print('Hola mundo', 100)"
      ],
      "execution_count": null,
      "outputs": [
        {
          "output_type": "stream",
          "text": [
            "Hola mundo 100\n"
          ],
          "name": "stdout"
        }
      ]
    },
    {
      "cell_type": "markdown",
      "metadata": {
        "id": "8DIHJzXlWge1"
      },
      "source": [
        "**Tipos de datos**"
      ]
    },
    {
      "cell_type": "code",
      "metadata": {
        "id": "X-pP5ud4Wk4B",
        "outputId": "c7bb39cc-d228-4786-c94b-b7c8432bc348",
        "colab": {
          "base_uri": "https://localhost:8080/"
        }
      },
      "source": [
        "print('MedrandaCode')# Cadena texto String - str\n",
        "print(10)# Entero - int \n",
        "print(10.5)# Flotante - float\n",
        "print(True, False)# Booleanos - bool "
      ],
      "execution_count": null,
      "outputs": [
        {
          "output_type": "stream",
          "text": [
            "MedrandaCode\n",
            "10\n",
            "10.5\n",
            "True False\n"
          ],
          "name": "stdout"
        }
      ]
    },
    {
      "cell_type": "markdown",
      "metadata": {
        "id": "Y6_XUdLjXqfu"
      },
      "source": [
        "**Variables** <br>\n",
        "Espacio que se genera en memoria, volatil.\n"
      ]
    },
    {
      "cell_type": "code",
      "metadata": {
        "id": "GOnFu0CgXt1i",
        "outputId": "8125c75e-5d4f-4d0e-abab-aeb37a657eed",
        "colab": {
          "base_uri": "https://localhost:8080/",
          "height": 35
        }
      },
      "source": [
        "monedero=4 # $4 dolares\n",
        "monedero= monedero + 3 #$3 más\n",
        "monedero= 'Monedero vacio, cero'\n",
        "monedero"
      ],
      "execution_count": null,
      "outputs": [
        {
          "output_type": "execute_result",
          "data": {
            "application/vnd.google.colaboratory.intrinsic+json": {
              "type": "string"
            },
            "text/plain": [
              "'Monedero vacio, cero'"
            ]
          },
          "metadata": {
            "tags": []
          },
          "execution_count": 7
        }
      ]
    },
    {
      "cell_type": "markdown",
      "metadata": {
        "id": "C7mLWzJXZSss"
      },
      "source": [
        "**OPeradores aritméticos**\n"
      ]
    },
    {
      "cell_type": "code",
      "metadata": {
        "id": "ubaFg2DKZZA_",
        "outputId": "87fd3607-cfa9-4589-ef28-34653399bc85",
        "colab": {
          "base_uri": "https://localhost:8080/"
        }
      },
      "source": [
        "a=10\n",
        "b=2\n",
        "suma=a+b#Suma\n",
        "resta= a-b# Resta\n",
        "mul= a*b# Multiplicación \n",
        "div= a/b# División flotante\n",
        "divEn=a//b # División Entera\n",
        "mod=a%b # Residuo \n",
        "suma, resta , mul, div, divEn, mod"
      ],
      "execution_count": null,
      "outputs": [
        {
          "output_type": "execute_result",
          "data": {
            "text/plain": [
              "(12, 8, 20, 5.0, 5, 0)"
            ]
          },
          "metadata": {
            "tags": []
          },
          "execution_count": 8
        }
      ]
    },
    {
      "cell_type": "markdown",
      "metadata": {
        "id": "IztCVzhx4zjS"
      },
      "source": [
        "### Sacar el promedio de un alumno según sus 3 calificaciones"
      ]
    },
    {
      "cell_type": "code",
      "metadata": {
        "id": "43dm2BoD45MS",
        "outputId": "24d9bd31-877a-45cb-9988-443b87b9a637",
        "colab": {
          "base_uri": "https://localhost:8080/"
        }
      },
      "source": [
        "Nombre= 'Medranda' \n",
        "calf1= 8\n",
        "calf2=9\n",
        "calf3=3\n",
        "promedio= (calf1+calf2+calf3)/3\n",
        "print('El alumno ' , Nombre , ' tiene un promedio de: ' , promedio)"
      ],
      "execution_count": null,
      "outputs": [
        {
          "output_type": "stream",
          "text": [
            "El alumno  Medranda  tiene un promedio de:  6.666666666666667\n"
          ],
          "name": "stdout"
        }
      ]
    },
    {
      "cell_type": "markdown",
      "metadata": {
        "id": "Cr0s6q4L56dk"
      },
      "source": [
        "## Condiciones\n"
      ]
    },
    {
      "cell_type": "markdown",
      "metadata": {
        "id": "0tJs9trG6KyQ"
      },
      "source": [
        "#### Operadores Relacionales\n",
        "\n"
      ]
    },
    {
      "cell_type": "code",
      "metadata": {
        "id": "R6W-4VxZ59e1"
      },
      "source": [
        "Igual : == # 10==10 : True  ; 10==9 : False\n",
        "Mayor que : > # 20> 5 : True ; 10>30: False\n",
        "Mayor o igual que: # 10>=10: True ; 10>=9: True; 20>=60: False\n",
        "Menor que: # 10< 9: False; 9<10:True ; 10<10: False \n",
        "Menor o igual que: # 20<= 21: True ; 30<=30: True; 40<=20: False\n",
        "Diferente: # !=;  10!= 9 : True ; 5 !=5 : False "
      ],
      "execution_count": null,
      "outputs": []
    },
    {
      "cell_type": "code",
      "metadata": {
        "id": "xnYppzgx8IQR",
        "outputId": "0fde052c-83e1-4139-f9c4-3423a9cba41d",
        "colab": {
          "base_uri": "https://localhost:8080/"
        }
      },
      "source": [
        "if 10==10:\n",
        "  print(True)\n",
        "if 20>5:\n",
        "  print(True)\n",
        "\n",
        "if 10<10:\n",
        "  print(True)\n",
        "else:\n",
        "  print(False)\n",
        "\n",
        "\n",
        "  a=20\n",
        "  b=30\n",
        "  if a>b:\n",
        "    print('Mayor es A', a)\n",
        "  else:\n",
        "    print('Mayor es b', b)\n"
      ],
      "execution_count": null,
      "outputs": [
        {
          "output_type": "stream",
          "text": [
            "True\n",
            "True\n",
            "False\n",
            "Mayor es b 30\n"
          ],
          "name": "stdout"
        }
      ]
    },
    {
      "cell_type": "markdown",
      "metadata": {
        "id": "ZHHXmL5H9rYm"
      },
      "source": [
        "### Sacar el promedio de un alumno según sus 3 calificaciones y verificar si aprueba o no aprueba ( Nota valida >=7)"
      ]
    },
    {
      "cell_type": "code",
      "metadata": {
        "id": "xbdRG6a591t0",
        "outputId": "965922d2-12e2-47fc-ae04-40c1b3f98745",
        "colab": {
          "base_uri": "https://localhost:8080/"
        }
      },
      "source": [
        "Nombre= 'Medranda' \n",
        "calf1=8\n",
        "calf2=9\n",
        "calf3=4\n",
        "promedio= (calf1+calf2+calf3)/3\n",
        "print('El alumno ' , Nombre , ' tiene un promedio de: ' , promedio)\n",
        "if promedio >=7:\n",
        "  print('Aprobado')\n",
        "else:\n",
        "  print('Reprobado')"
      ],
      "execution_count": null,
      "outputs": [
        {
          "output_type": "stream",
          "text": [
            "El alumno  Medranda  tiene un promedio de:  7.0\n",
            "Aprobado\n"
          ],
          "name": "stdout"
        }
      ]
    }
  ]
}